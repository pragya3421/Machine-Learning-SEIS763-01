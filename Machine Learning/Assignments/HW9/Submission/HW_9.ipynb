{
 "cells": [
  {
   "cell_type": "code",
   "execution_count": 2,
   "id": "ee4a4f20",
   "metadata": {},
   "outputs": [],
   "source": [
    "# Importing libraries \n",
    "import pandas as pd\n",
    "from sklearn.tree import DecisionTreeClassifier\n",
    "from sklearn.tree import plot_tree\n",
    "from sklearn.metrics import classification_report,confusion_matrix"
   ]
  },
  {
   "cell_type": "code",
   "execution_count": 3,
   "id": "d3122187",
   "metadata": {},
   "outputs": [],
   "source": [
    "import pandas as pd\n",
    "\n",
    "file_path = r\"C:\\PRAGYA\\UST\\COURSES\\SEM 4\\Machine Learning\\Assignments\\HW9\\ML_HW_Data_CancerGene.xlsx\"\n",
    "\n",
    "# Importing the data from different sheets of the Excel file\n",
    "Cancer_Gene_train_X = pd.read_excel(file_path, sheet_name=0, header=None)\n",
    "Cancer_Gene_train_labels = pd.read_excel(file_path, sheet_name=1, header=None)\n",
    "Cancer_Gene_test_X = pd.read_excel(file_path, sheet_name=2, header=None)\n",
    "Cancer_Gene_test_labels = pd.read_excel(file_path, sheet_name=3, header=None)\n"
   ]
  },
  {
   "cell_type": "code",
   "execution_count": 4,
   "id": "e15243ef",
   "metadata": {},
   "outputs": [
    {
     "data": {
      "text/html": [
       "<div>\n",
       "<style scoped>\n",
       "    .dataframe tbody tr th:only-of-type {\n",
       "        vertical-align: middle;\n",
       "    }\n",
       "\n",
       "    .dataframe tbody tr th {\n",
       "        vertical-align: top;\n",
       "    }\n",
       "\n",
       "    .dataframe thead th {\n",
       "        text-align: right;\n",
       "    }\n",
       "</style>\n",
       "<table border=\"1\" class=\"dataframe\">\n",
       "  <thead>\n",
       "    <tr style=\"text-align: right;\">\n",
       "      <th></th>\n",
       "      <th>0</th>\n",
       "    </tr>\n",
       "  </thead>\n",
       "  <tbody>\n",
       "    <tr>\n",
       "      <th>0</th>\n",
       "      <td>NB</td>\n",
       "    </tr>\n",
       "    <tr>\n",
       "      <th>1</th>\n",
       "      <td>EW</td>\n",
       "    </tr>\n",
       "    <tr>\n",
       "      <th>2</th>\n",
       "      <td>NaN</td>\n",
       "    </tr>\n",
       "    <tr>\n",
       "      <th>3</th>\n",
       "      <td>RM</td>\n",
       "    </tr>\n",
       "    <tr>\n",
       "      <th>4</th>\n",
       "      <td>NaN</td>\n",
       "    </tr>\n",
       "  </tbody>\n",
       "</table>\n",
       "</div>"
      ],
      "text/plain": [
       "     0\n",
       "0   NB\n",
       "1   EW\n",
       "2  NaN\n",
       "3   RM\n",
       "4  NaN"
      ]
     },
     "execution_count": 4,
     "metadata": {},
     "output_type": "execute_result"
    }
   ],
   "source": [
    "# Veryfing test_lables\n",
    "Cancer_Gene_test_labels.head()"
   ]
  },
  {
   "cell_type": "code",
   "execution_count": 5,
   "id": "6341b6a1",
   "metadata": {},
   "outputs": [],
   "source": [
    "# Python interprets the class 'NA' as if it were a NaN. So change the class label from 'NA' to 'NAA'.\n",
    "Cancer_Gene_test_labels.loc[Cancer_Gene_test_labels[0].isnull(), 0] = 'NAA'"
   ]
  },
  {
   "cell_type": "code",
   "execution_count": 6,
   "id": "2eb25789",
   "metadata": {},
   "outputs": [
    {
     "data": {
      "text/plain": [
       "DecisionTreeClassifier()"
      ]
     },
     "execution_count": 6,
     "metadata": {},
     "output_type": "execute_result"
    }
   ],
   "source": [
    "# Training and fitting the DecisionTreeClassifier on the Training set\n",
    "DT_Model = DecisionTreeClassifier(criterion = 'gini' )\n",
    "DT_Model.fit(Cancer_Gene_train_X, Cancer_Gene_train_labels )"
   ]
  },
  {
   "cell_type": "code",
   "execution_count": 7,
   "id": "ed8b77ec",
   "metadata": {},
   "outputs": [
    {
     "data": {
      "image/png": "[encoded data removed]",
      "text/plain": [
       "<Figure size 432x288 with 1 Axes>"
      ]
     },
     "metadata": {
      "needs_background": "light"
     },
     "output_type": "display_data"
    }
   ],
   "source": [
    "# Plotting the decision tree\n",
    "DecTree = plot_tree(decision_tree=DT_Model, feature_names = Cancer_Gene_train_X.columns, filled = True , precision = 4, rounded = True)"
   ]
  },
  {
   "cell_type": "code",
   "execution_count": 8,
   "id": "dfd28c1d",
   "metadata": {},
   "outputs": [],
   "source": [
    "# Predicition of Training Data\n",
    "Predict_train = DT_Model.predict(Cancer_Gene_train_X)"
   ]
  },
  {
   "cell_type": "code",
   "execution_count": 9,
   "id": "8bf7353b",
   "metadata": {},
   "outputs": [
    {
     "data": {
      "text/plain": [
       "array([[ 8,  0,  0,  0],\n",
       "       [ 0, 23,  0,  0],\n",
       "       [ 0,  0, 12,  0],\n",
       "       [ 0,  0,  0, 20]], dtype=int64)"
      ]
     },
     "execution_count": 9,
     "metadata": {},
     "output_type": "execute_result"
    }
   ],
   "source": [
    "# CFM for Training Data\n",
    "confusion_matrix(Cancer_Gene_train_labels, Predict_train)"
   ]
  },
  {
   "cell_type": "code",
   "execution_count": 10,
   "id": "9b4f14a7",
   "metadata": {},
   "outputs": [
    {
     "name": "stdout",
     "output_type": "stream",
     "text": [
      "              precision    recall  f1-score   support\n",
      "\n",
      "          BL       1.00      1.00      1.00         8\n",
      "          EW       1.00      1.00      1.00        23\n",
      "          NB       1.00      1.00      1.00        12\n",
      "          RM       1.00      1.00      1.00        20\n",
      "\n",
      "    accuracy                           1.00        63\n",
      "   macro avg       1.00      1.00      1.00        63\n",
      "weighted avg       1.00      1.00      1.00        63\n",
      "\n"
     ]
    }
   ],
   "source": [
    "# Classification Report for Training Data\n",
    "print(classification_report(Cancer_Gene_train_labels, Predict_train))"
   ]
  },
  {
   "cell_type": "code",
   "execution_count": 11,
   "id": "ca6efa9e",
   "metadata": {},
   "outputs": [],
   "source": [
    "# Prediction of Test Data\n",
    "Predict_test = DT_Model.predict(Cancer_Gene_test_X)"
   ]
  },
  {
   "cell_type": "code",
   "execution_count": 12,
   "id": "af08304f",
   "metadata": {},
   "outputs": [
    {
     "data": {
      "text/plain": [
       "array([[1, 1, 0, 1, 0],\n",
       "       [0, 4, 0, 1, 1],\n",
       "       [1, 0, 0, 1, 3],\n",
       "       [0, 0, 0, 5, 1],\n",
       "       [0, 1, 0, 0, 4]], dtype=int64)"
      ]
     },
     "execution_count": 12,
     "metadata": {},
     "output_type": "execute_result"
    }
   ],
   "source": [
    "# CFM for Test Data\n",
    "confusion_matrix(Cancer_Gene_test_labels, Predict_test)"
   ]
  },
  {
   "cell_type": "code",
   "execution_count": 13,
   "id": "546cf599",
   "metadata": {},
   "outputs": [
    {
     "name": "stdout",
     "output_type": "stream",
     "text": [
      "              precision    recall  f1-score   support\n",
      "\n",
      "          BL       0.50      0.33      0.40         3\n",
      "          EW       0.67      0.67      0.67         6\n",
      "         NAA       0.00      0.00      0.00         5\n",
      "          NB       0.62      0.83      0.71         6\n",
      "          RM       0.44      0.80      0.57         5\n",
      "\n",
      "    accuracy                           0.56        25\n",
      "   macro avg       0.45      0.53      0.47        25\n",
      "weighted avg       0.46      0.56      0.49        25\n",
      "\n"
     ]
    },
    {
     "name": "stderr",
     "output_type": "stream",
     "text": [
      "C:\\Users\\pragy\\anaconda3\\lib\\site-packages\\sklearn\\metrics\\_classification.py:1318: UndefinedMetricWarning: Precision and F-score are ill-defined and being set to 0.0 in labels with no predicted samples. Use `zero_division` parameter to control this behavior.\n",
      "  _warn_prf(average, modifier, msg_start, len(result))\n",
      "C:\\Users\\pragy\\anaconda3\\lib\\site-packages\\sklearn\\metrics\\_classification.py:1318: UndefinedMetricWarning: Precision and F-score are ill-defined and being set to 0.0 in labels with no predicted samples. Use `zero_division` parameter to control this behavior.\n",
      "  _warn_prf(average, modifier, msg_start, len(result))\n",
      "C:\\Users\\pragy\\anaconda3\\lib\\site-packages\\sklearn\\metrics\\_classification.py:1318: UndefinedMetricWarning: Precision and F-score are ill-defined and being set to 0.0 in labels with no predicted samples. Use `zero_division` parameter to control this behavior.\n",
      "  _warn_prf(average, modifier, msg_start, len(result))\n"
     ]
    }
   ],
   "source": [
    "# Classification Report for Test Data\n",
    "print(classification_report(Cancer_Gene_test_labels, Predict_test))"
   ]
  },
  {
   "cell_type": "code",
   "execution_count": null,
   "id": "e11eafde",
   "metadata": {},
   "outputs": [],
   "source": []
  }
 ],
 "metadata": {
  "kernelspec": {
   "display_name": "Python 3 (ipykernel)",
   "language": "python",
   "name": "python3"
  },
  "language_info": {
   "codemirror_mode": {
    "name": "ipython",
    "version": 3
   },
   "file_extension": ".py",
   "mimetype": "text/x-python",
   "name": "python",
   "nbconvert_exporter": "python",
   "pygments_lexer": "ipython3",
   "version": "3.9.12"
  }
 },
 "nbformat": 4,
 "nbformat_minor": 5
}
